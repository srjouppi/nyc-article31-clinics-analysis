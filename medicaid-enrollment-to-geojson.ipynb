{
 "cells": [
  {
   "cell_type": "code",
   "execution_count": 2,
   "id": "f468c68a",
   "metadata": {},
   "outputs": [
    {
     "name": "stderr",
     "output_type": "stream",
     "text": [
      "/Users/shelbyjouppi/.pyenv/versions/3.9.7/lib/python3.9/site-packages/pandas/compat/__init__.py:124: UserWarning: Could not import the lzma module. Your installed Python is incomplete. Attempting to use lzma compression will result in a RuntimeError.\n",
      "  warnings.warn(msg)\n"
     ]
    }
   ],
   "source": [
    "import pandas as pd\n",
    "import geopandas as gpd"
   ]
  },
  {
   "cell_type": "markdown",
   "id": "562ad879",
   "metadata": {},
   "source": [
    "## Import Data\n",
    "\n",
    "I want two geojson files with agregates of Medicaid enrollment data:\n",
    "  \n",
    "- Zip Code Level\n",
    "- UHF Code level\n",
    "\n",
    "Data Sources:\n",
    "- Zip Code Shapfile: https://data.cityofnewyork.us/Business/Zip-Code-Boundaries/i8iw-xf4u\n",
    "- UHF Code GeoJSON:\n",
    "- Medicaid Enrollment Data: NYS Department of Health FOIL June 2022"
   ]
  },
  {
   "cell_type": "markdown",
   "id": "7d107687",
   "metadata": {},
   "source": [
    "#### Medicaid enrollment age 5-18 by zip code for 2022\n"
   ]
  },
  {
   "cell_type": "code",
   "execution_count": 10,
   "id": "63a879af",
   "metadata": {},
   "outputs": [
    {
     "data": {
      "text/html": [
       "<div>\n",
       "<style scoped>\n",
       "    .dataframe tbody tr th:only-of-type {\n",
       "        vertical-align: middle;\n",
       "    }\n",
       "\n",
       "    .dataframe tbody tr th {\n",
       "        vertical-align: top;\n",
       "    }\n",
       "\n",
       "    .dataframe thead th {\n",
       "        text-align: right;\n",
       "    }\n",
       "</style>\n",
       "<table border=\"1\" class=\"dataframe\">\n",
       "  <thead>\n",
       "    <tr style=\"text-align: right;\">\n",
       "      <th></th>\n",
       "      <th>residence_zip5</th>\n",
       "      <th>mc_ffs</th>\n",
       "      <th>2017_mbr_cnt</th>\n",
       "      <th>2018_mbr_cnt</th>\n",
       "      <th>2019_mbr_cnt</th>\n",
       "      <th>2020_mbr_cnt</th>\n",
       "      <th>2021_mbr_cnt</th>\n",
       "      <th>2022_mbr_cnt</th>\n",
       "    </tr>\n",
       "  </thead>\n",
       "  <tbody>\n",
       "    <tr>\n",
       "      <th>0</th>\n",
       "      <td>00000</td>\n",
       "      <td>FFS</td>\n",
       "      <td>NaN</td>\n",
       "      <td>NaN</td>\n",
       "      <td>NaN</td>\n",
       "      <td>NaN</td>\n",
       "      <td>NaN</td>\n",
       "      <td>NaN</td>\n",
       "    </tr>\n",
       "    <tr>\n",
       "      <th>1</th>\n",
       "      <td>00000</td>\n",
       "      <td>MANAGED CARE</td>\n",
       "      <td>NaN</td>\n",
       "      <td>NaN</td>\n",
       "      <td>NaN</td>\n",
       "      <td>NaN</td>\n",
       "      <td>NaN</td>\n",
       "      <td>NaN</td>\n",
       "    </tr>\n",
       "    <tr>\n",
       "      <th>2</th>\n",
       "      <td>00003</td>\n",
       "      <td>MANAGED CARE</td>\n",
       "      <td>NaN</td>\n",
       "      <td>NaN</td>\n",
       "      <td>NaN</td>\n",
       "      <td>NaN</td>\n",
       "      <td>NaN</td>\n",
       "      <td>NaN</td>\n",
       "    </tr>\n",
       "    <tr>\n",
       "      <th>3</th>\n",
       "      <td>00063</td>\n",
       "      <td>MANAGED CARE</td>\n",
       "      <td>NaN</td>\n",
       "      <td>NaN</td>\n",
       "      <td>NaN</td>\n",
       "      <td>NaN</td>\n",
       "      <td>NaN</td>\n",
       "      <td>NaN</td>\n",
       "    </tr>\n",
       "    <tr>\n",
       "      <th>4</th>\n",
       "      <td>00192</td>\n",
       "      <td>MANAGED CARE</td>\n",
       "      <td>NaN</td>\n",
       "      <td>NaN</td>\n",
       "      <td>NaN</td>\n",
       "      <td>NaN</td>\n",
       "      <td>NaN</td>\n",
       "      <td>NaN</td>\n",
       "    </tr>\n",
       "  </tbody>\n",
       "</table>\n",
       "</div>"
      ],
      "text/plain": [
       "  residence_zip5        mc_ffs  2017_mbr_cnt  2018_mbr_cnt  2019_mbr_cnt  \\\n",
       "0          00000           FFS           NaN           NaN           NaN   \n",
       "1          00000  MANAGED CARE           NaN           NaN           NaN   \n",
       "2          00003  MANAGED CARE           NaN           NaN           NaN   \n",
       "3          00063  MANAGED CARE           NaN           NaN           NaN   \n",
       "4          00192  MANAGED CARE           NaN           NaN           NaN   \n",
       "\n",
       "   2020_mbr_cnt  2021_mbr_cnt  2022_mbr_cnt  \n",
       "0           NaN           NaN           NaN  \n",
       "1           NaN           NaN           NaN  \n",
       "2           NaN           NaN           NaN  \n",
       "3           NaN           NaN           NaN  \n",
       "4           NaN           NaN           NaN  "
      ]
     },
     "metadata": {},
     "output_type": "display_data"
    },
    {
     "data": {
      "text/plain": [
       "(10417, 8)"
      ]
     },
     "metadata": {},
     "output_type": "display_data"
    }
   ],
   "source": [
    "medicaid22 = pd.read_excel('data/FFS  MC Enrollment Count by Zip - Members Aged 5 to 18 - January 2017 thru June 2022.xlsx',sheet_name='FFS&MC Enrollment 2017-2022',dtype={\"Residence Zip5\":str},header=3)\n",
    "medicaid22.columns = medicaid22.columns.str.lower().str.replace(' ',\"_\")\n",
    "display(medicaid22.head(5))\n",
    "display(medicaid22.shape)"
   ]
  },
  {
   "cell_type": "markdown",
   "id": "d08d66a9",
   "metadata": {},
   "source": [
    "#### NYC Zip code shapefile"
   ]
  },
  {
   "cell_type": "code",
   "execution_count": 11,
   "id": "0b3f2bbb",
   "metadata": {},
   "outputs": [
    {
     "data": {
      "text/html": [
       "<div>\n",
       "<style scoped>\n",
       "    .dataframe tbody tr th:only-of-type {\n",
       "        vertical-align: middle;\n",
       "    }\n",
       "\n",
       "    .dataframe tbody tr th {\n",
       "        vertical-align: top;\n",
       "    }\n",
       "\n",
       "    .dataframe thead th {\n",
       "        text-align: right;\n",
       "    }\n",
       "</style>\n",
       "<table border=\"1\" class=\"dataframe\">\n",
       "  <thead>\n",
       "    <tr style=\"text-align: right;\">\n",
       "      <th></th>\n",
       "      <th>ZIPCODE</th>\n",
       "      <th>BLDGZIP</th>\n",
       "      <th>PO_NAME</th>\n",
       "      <th>POPULATION</th>\n",
       "      <th>AREA</th>\n",
       "      <th>STATE</th>\n",
       "      <th>COUNTY</th>\n",
       "      <th>ST_FIPS</th>\n",
       "      <th>CTY_FIPS</th>\n",
       "      <th>URL</th>\n",
       "      <th>SHAPE_AREA</th>\n",
       "      <th>SHAPE_LEN</th>\n",
       "      <th>geometry</th>\n",
       "    </tr>\n",
       "  </thead>\n",
       "  <tbody>\n",
       "    <tr>\n",
       "      <th>0</th>\n",
       "      <td>11436</td>\n",
       "      <td>0</td>\n",
       "      <td>Jamaica</td>\n",
       "      <td>18681.0</td>\n",
       "      <td>2.269930e+07</td>\n",
       "      <td>NY</td>\n",
       "      <td>Queens</td>\n",
       "      <td>36</td>\n",
       "      <td>081</td>\n",
       "      <td>http://www.usps.com/</td>\n",
       "      <td>0.0</td>\n",
       "      <td>0.0</td>\n",
       "      <td>POLYGON ((1038098.252 188138.380, 1038141.936 ...</td>\n",
       "    </tr>\n",
       "  </tbody>\n",
       "</table>\n",
       "</div>"
      ],
      "text/plain": [
       "  ZIPCODE BLDGZIP  PO_NAME  POPULATION          AREA STATE  COUNTY ST_FIPS  \\\n",
       "0   11436       0  Jamaica     18681.0  2.269930e+07    NY  Queens      36   \n",
       "\n",
       "  CTY_FIPS                   URL  SHAPE_AREA  SHAPE_LEN  \\\n",
       "0      081  http://www.usps.com/         0.0        0.0   \n",
       "\n",
       "                                            geometry  \n",
       "0  POLYGON ((1038098.252 188138.380, 1038141.936 ...  "
      ]
     },
     "metadata": {},
     "output_type": "display_data"
    },
    {
     "data": {
      "text/plain": [
       "(263, 13)"
      ]
     },
     "metadata": {},
     "output_type": "display_data"
    }
   ],
   "source": [
    "nycZips = gpd.read_file('data/ZIP_CODE_040114.zip')\n",
    "display(nycZips.head(1))\n",
    "display(nycZips.shape)"
   ]
  },
  {
   "cell_type": "code",
   "execution_count": 19,
   "id": "708f39d2",
   "metadata": {},
   "outputs": [
    {
     "data": {
      "text/plain": [
       "248"
      ]
     },
     "execution_count": 19,
     "metadata": {},
     "output_type": "execute_result"
    }
   ],
   "source": [
    "# WHY ARE THEIR DUPLICATE ENTRIES?\n",
    "nycZips.ZIPCODE.nunique()"
   ]
  },
  {
   "cell_type": "code",
   "execution_count": 20,
   "id": "0662d4f6",
   "metadata": {},
   "outputs": [
    {
     "data": {
      "text/plain": [
       "10004    4\n",
       "11693    4\n",
       "10464    3\n",
       "11231    2\n",
       "10047    2\n",
       "        ..\n",
       "10002    1\n",
       "11378    1\n",
       "10009    1\n",
       "10012    1\n",
       "10119    1\n",
       "Name: ZIPCODE, Length: 248, dtype: int64"
      ]
     },
     "execution_count": 20,
     "metadata": {},
     "output_type": "execute_result"
    }
   ],
   "source": [
    "nycZips.ZIPCODE.value_counts()"
   ]
  },
  {
   "cell_type": "code",
   "execution_count": 23,
   "id": "544d6b18",
   "metadata": {},
   "outputs": [
    {
     "data": {
      "text/plain": [
       "<AxesSubplot:>"
      ]
     },
     "execution_count": 23,
     "metadata": {},
     "output_type": "execute_result"
    },
    {
     "data": {
      "image/png": "[encoded data removed]",
      "text/plain": [
       "<Figure size 432x288 with 1 Axes>"
      ]
     },
     "metadata": {
      "needs_background": "light"
     },
     "output_type": "display_data"
    }
   ],
   "source": [
    "nycZips.query('ZIPCODE == \"10004\"').plot()\n",
    "# I guess these zip codes cover many disconnected pieces of land"
   ]
  },
  {
   "cell_type": "markdown",
   "id": "d2e4f0ac",
   "metadata": {},
   "source": [
    "#### UHF Codes"
   ]
  },
  {
   "cell_type": "code",
   "execution_count": 13,
   "id": "ce1b0f2a",
   "metadata": {},
   "outputs": [
    {
     "data": {
      "text/html": [
       "<div>\n",
       "<style scoped>\n",
       "    .dataframe tbody tr th:only-of-type {\n",
       "        vertical-align: middle;\n",
       "    }\n",
       "\n",
       "    .dataframe tbody tr th {\n",
       "        vertical-align: top;\n",
       "    }\n",
       "\n",
       "    .dataframe thead th {\n",
       "        text-align: right;\n",
       "    }\n",
       "</style>\n",
       "<table border=\"1\" class=\"dataframe\">\n",
       "  <thead>\n",
       "    <tr style=\"text-align: right;\">\n",
       "      <th></th>\n",
       "      <th>uhf_code</th>\n",
       "      <th>neighborhood</th>\n",
       "      <th>zipcode</th>\n",
       "    </tr>\n",
       "  </thead>\n",
       "  <tbody>\n",
       "    <tr>\n",
       "      <th>0</th>\n",
       "      <td>101</td>\n",
       "      <td>Kingsbridge - Riverdale</td>\n",
       "      <td>10463</td>\n",
       "    </tr>\n",
       "    <tr>\n",
       "      <th>1</th>\n",
       "      <td>102</td>\n",
       "      <td>Northeast Bronx</td>\n",
       "      <td>10466</td>\n",
       "    </tr>\n",
       "    <tr>\n",
       "      <th>2</th>\n",
       "      <td>103</td>\n",
       "      <td>Fordham - Bronx Park</td>\n",
       "      <td>10458</td>\n",
       "    </tr>\n",
       "  </tbody>\n",
       "</table>\n",
       "</div>"
      ],
      "text/plain": [
       "  uhf_code              neighborhood zipcode\n",
       "0      101  Kingsbridge - Riverdale    10463\n",
       "1      102           Northeast Bronx   10466\n",
       "2      103      Fordham - Bronx Park   10458"
      ]
     },
     "metadata": {},
     "output_type": "display_data"
    },
    {
     "data": {
      "text/plain": [
       "(176, 3)"
      ]
     },
     "metadata": {},
     "output_type": "display_data"
    },
    {
     "data": {
      "text/html": [
       "<div>\n",
       "<style scoped>\n",
       "    .dataframe tbody tr th:only-of-type {\n",
       "        vertical-align: middle;\n",
       "    }\n",
       "\n",
       "    .dataframe tbody tr th {\n",
       "        vertical-align: top;\n",
       "    }\n",
       "\n",
       "    .dataframe thead th {\n",
       "        text-align: right;\n",
       "    }\n",
       "</style>\n",
       "<table border=\"1\" class=\"dataframe\">\n",
       "  <thead>\n",
       "    <tr style=\"text-align: right;\">\n",
       "      <th></th>\n",
       "      <th>OBJECTID</th>\n",
       "      <th>UHFCODE</th>\n",
       "      <th>SHAPE_Leng</th>\n",
       "      <th>SHAPE_Area</th>\n",
       "      <th>UHF_NEIGH</th>\n",
       "      <th>BOROUGH</th>\n",
       "      <th>geometry</th>\n",
       "    </tr>\n",
       "  </thead>\n",
       "  <tbody>\n",
       "    <tr>\n",
       "      <th>0</th>\n",
       "      <td>1</td>\n",
       "      <td>0</td>\n",
       "      <td>207587.595627</td>\n",
       "      <td>2.764099e+08</td>\n",
       "      <td>None</td>\n",
       "      <td>N/A</td>\n",
       "      <td>MULTIPOLYGON (((1052698.331 161778.389, 105230...</td>\n",
       "    </tr>\n",
       "    <tr>\n",
       "      <th>1</th>\n",
       "      <td>2</td>\n",
       "      <td>101</td>\n",
       "      <td>57699.154353</td>\n",
       "      <td>1.332914e+08</td>\n",
       "      <td>Kingsbridge - Riverdale</td>\n",
       "      <td>Bronx</td>\n",
       "      <td>MULTIPOLYGON (((1017992.893 269222.964, 101781...</td>\n",
       "    </tr>\n",
       "    <tr>\n",
       "      <th>2</th>\n",
       "      <td>3</td>\n",
       "      <td>102</td>\n",
       "      <td>88219.319109</td>\n",
       "      <td>1.813708e+08</td>\n",
       "      <td>Northeast Bronx</td>\n",
       "      <td>Bronx</td>\n",
       "      <td>MULTIPOLYGON (((1025012.990 270794.260, 102506...</td>\n",
       "    </tr>\n",
       "  </tbody>\n",
       "</table>\n",
       "</div>"
      ],
      "text/plain": [
       "   OBJECTID UHFCODE     SHAPE_Leng    SHAPE_Area                UHF_NEIGH  \\\n",
       "0         1       0  207587.595627  2.764099e+08                     None   \n",
       "1         2     101   57699.154353  1.332914e+08  Kingsbridge - Riverdale   \n",
       "2         3     102   88219.319109  1.813708e+08          Northeast Bronx   \n",
       "\n",
       "  BOROUGH                                           geometry  \n",
       "0     N/A  MULTIPOLYGON (((1052698.331 161778.389, 105230...  \n",
       "1   Bronx  MULTIPOLYGON (((1017992.893 269222.964, 101781...  \n",
       "2   Bronx  MULTIPOLYGON (((1025012.990 270794.260, 102506...  "
      ]
     },
     "metadata": {},
     "output_type": "display_data"
    },
    {
     "data": {
      "text/plain": [
       "(43, 7)"
      ]
     },
     "metadata": {},
     "output_type": "display_data"
    }
   ],
   "source": [
    "# Neighborhood Codes by Zip Code\n",
    "uhfCodes = pd.read_csv('data/uhf-codes-nyc-clean.csv',dtype={\"zipcode\":str,\"uhf_code\":str} )\n",
    "display(uhfCodes.head(3))\n",
    "display(uhfCodes.shape)\n",
    "\n",
    "# Neighborhood Codes Shapefile\n",
    "uhfCodesGeo = gpd.read_file('data/uhfcodes.geojson')\n",
    "uhfCodesGeo['UHFCODE'] = uhfCodesGeo['UHFCODE'].astype('str').str.split(\".\").str[0]\n",
    "display(uhfCodesGeo.head(3))\n",
    "display(uhfCodesGeo.shape)"
   ]
  },
  {
   "cell_type": "markdown",
   "id": "b7cc7a63",
   "metadata": {},
   "source": [
    "## Merging Medicaid Data For NYC\n",
    "### First let's go by Zip Code"
   ]
  },
  {
   "cell_type": "code",
   "execution_count": 14,
   "id": "c548728b",
   "metadata": {},
   "outputs": [
    {
     "data": {
      "text/html": [
       "<div>\n",
       "<style scoped>\n",
       "    .dataframe tbody tr th:only-of-type {\n",
       "        vertical-align: middle;\n",
       "    }\n",
       "\n",
       "    .dataframe tbody tr th {\n",
       "        vertical-align: top;\n",
       "    }\n",
       "\n",
       "    .dataframe thead th {\n",
       "        text-align: right;\n",
       "    }\n",
       "</style>\n",
       "<table border=\"1\" class=\"dataframe\">\n",
       "  <thead>\n",
       "    <tr style=\"text-align: right;\">\n",
       "      <th></th>\n",
       "      <th>residence_zip5</th>\n",
       "      <th>mc_ffs</th>\n",
       "      <th>2017_mbr_cnt</th>\n",
       "      <th>2018_mbr_cnt</th>\n",
       "      <th>2019_mbr_cnt</th>\n",
       "      <th>2020_mbr_cnt</th>\n",
       "      <th>2021_mbr_cnt</th>\n",
       "      <th>2022_mbr_cnt</th>\n",
       "    </tr>\n",
       "  </thead>\n",
       "  <tbody>\n",
       "    <tr>\n",
       "      <th>913</th>\n",
       "      <td>10001</td>\n",
       "      <td>FFS</td>\n",
       "      <td>118.0</td>\n",
       "      <td>121.0</td>\n",
       "      <td>140.0</td>\n",
       "      <td>102.0</td>\n",
       "      <td>57.0</td>\n",
       "      <td>74.0</td>\n",
       "    </tr>\n",
       "    <tr>\n",
       "      <th>914</th>\n",
       "      <td>10001</td>\n",
       "      <td>MANAGED CARE</td>\n",
       "      <td>853.0</td>\n",
       "      <td>1045.0</td>\n",
       "      <td>1053.0</td>\n",
       "      <td>990.0</td>\n",
       "      <td>948.0</td>\n",
       "      <td>864.0</td>\n",
       "    </tr>\n",
       "    <tr>\n",
       "      <th>915</th>\n",
       "      <td>10002</td>\n",
       "      <td>FFS</td>\n",
       "      <td>375.0</td>\n",
       "      <td>346.0</td>\n",
       "      <td>345.0</td>\n",
       "      <td>287.0</td>\n",
       "      <td>208.0</td>\n",
       "      <td>277.0</td>\n",
       "    </tr>\n",
       "    <tr>\n",
       "      <th>916</th>\n",
       "      <td>10002</td>\n",
       "      <td>MANAGED CARE</td>\n",
       "      <td>7727.0</td>\n",
       "      <td>7319.0</td>\n",
       "      <td>6872.0</td>\n",
       "      <td>6549.0</td>\n",
       "      <td>6446.0</td>\n",
       "      <td>6027.0</td>\n",
       "    </tr>\n",
       "    <tr>\n",
       "      <th>917</th>\n",
       "      <td>10003</td>\n",
       "      <td>FFS</td>\n",
       "      <td>36.0</td>\n",
       "      <td>44.0</td>\n",
       "      <td>43.0</td>\n",
       "      <td>44.0</td>\n",
       "      <td>47.0</td>\n",
       "      <td>40.0</td>\n",
       "    </tr>\n",
       "  </tbody>\n",
       "</table>\n",
       "</div>"
      ],
      "text/plain": [
       "    residence_zip5        mc_ffs  2017_mbr_cnt  2018_mbr_cnt  2019_mbr_cnt  \\\n",
       "913          10001           FFS         118.0         121.0         140.0   \n",
       "914          10001  MANAGED CARE         853.0        1045.0        1053.0   \n",
       "915          10002           FFS         375.0         346.0         345.0   \n",
       "916          10002  MANAGED CARE        7727.0        7319.0        6872.0   \n",
       "917          10003           FFS          36.0          44.0          43.0   \n",
       "\n",
       "     2020_mbr_cnt  2021_mbr_cnt  2022_mbr_cnt  \n",
       "913         102.0          57.0          74.0  \n",
       "914         990.0         948.0         864.0  \n",
       "915         287.0         208.0         277.0  \n",
       "916        6549.0        6446.0        6027.0  \n",
       "917          44.0          47.0          40.0  "
      ]
     },
     "metadata": {},
     "output_type": "display_data"
    },
    {
     "data": {
      "text/plain": [
       "(431, 8)"
      ]
     },
     "metadata": {},
     "output_type": "display_data"
    }
   ],
   "source": [
    "# Saving a new dataframe filtering zip codes to NYC zip codes\n",
    "nycMedicaid = medicaid22.query('residence_zip5.isin(@nycZips.ZIPCODE)')\n",
    "display(nycMedicaid.head())\n",
    "display(nycMedicaid.shape)"
   ]
  },
  {
   "cell_type": "code",
   "execution_count": 15,
   "id": "d454dd47",
   "metadata": {},
   "outputs": [
    {
     "data": {
      "text/plain": [
       "240"
      ]
     },
     "execution_count": 15,
     "metadata": {},
     "output_type": "execute_result"
    }
   ],
   "source": [
    "# There are 240 zips here, but 263 in original file. Which are missing?\n",
    "nycMedicaid.residence_zip5.nunique()"
   ]
  },
  {
   "cell_type": "code",
   "execution_count": 17,
   "id": "6ff91b97",
   "metadata": {},
   "outputs": [
    {
     "data": {
      "text/html": [
       "<div>\n",
       "<style scoped>\n",
       "    .dataframe tbody tr th:only-of-type {\n",
       "        vertical-align: middle;\n",
       "    }\n",
       "\n",
       "    .dataframe tbody tr th {\n",
       "        vertical-align: top;\n",
       "    }\n",
       "\n",
       "    .dataframe thead th {\n",
       "        text-align: right;\n",
       "    }\n",
       "</style>\n",
       "<table border=\"1\" class=\"dataframe\">\n",
       "  <thead>\n",
       "    <tr style=\"text-align: right;\">\n",
       "      <th></th>\n",
       "      <th>ZIPCODE</th>\n",
       "      <th>BLDGZIP</th>\n",
       "      <th>PO_NAME</th>\n",
       "      <th>POPULATION</th>\n",
       "      <th>AREA</th>\n",
       "      <th>STATE</th>\n",
       "      <th>COUNTY</th>\n",
       "      <th>ST_FIPS</th>\n",
       "      <th>CTY_FIPS</th>\n",
       "      <th>URL</th>\n",
       "      <th>SHAPE_AREA</th>\n",
       "      <th>SHAPE_LEN</th>\n",
       "      <th>geometry</th>\n",
       "    </tr>\n",
       "  </thead>\n",
       "  <tbody>\n",
       "    <tr>\n",
       "      <th>50</th>\n",
       "      <td>10048</td>\n",
       "      <td>0</td>\n",
       "      <td>New York</td>\n",
       "      <td>0.0</td>\n",
       "      <td>9.727884e+05</td>\n",
       "      <td>NY</td>\n",
       "      <td>New York</td>\n",
       "      <td>36</td>\n",
       "      <td>061</td>\n",
       "      <td>http://www.usps.com/</td>\n",
       "      <td>0.0</td>\n",
       "      <td>0.0</td>\n",
       "      <td>POLYGON ((981026.765 197865.690, 981013.562 19...</td>\n",
       "    </tr>\n",
       "    <tr>\n",
       "      <th>54</th>\n",
       "      <td>00083</td>\n",
       "      <td>0</td>\n",
       "      <td>Central Park</td>\n",
       "      <td>25.0</td>\n",
       "      <td>3.830099e+07</td>\n",
       "      <td>NY</td>\n",
       "      <td>New York</td>\n",
       "      <td>36</td>\n",
       "      <td>061</td>\n",
       "      <td>http://www.usps.com/</td>\n",
       "      <td>0.0</td>\n",
       "      <td>0.0</td>\n",
       "      <td>POLYGON ((998309.725 229616.681, 998282.853 22...</td>\n",
       "    </tr>\n",
       "    <tr>\n",
       "      <th>239</th>\n",
       "      <td>10097</td>\n",
       "      <td>1</td>\n",
       "      <td>New York</td>\n",
       "      <td>0.0</td>\n",
       "      <td>6.582618e+04</td>\n",
       "      <td>NY</td>\n",
       "      <td>New York</td>\n",
       "      <td>36</td>\n",
       "      <td>061</td>\n",
       "      <td>http://www.usps.com/</td>\n",
       "      <td>0.0</td>\n",
       "      <td>0.0</td>\n",
       "      <td>POLYGON ((988345.340 217131.826, 988452.711 21...</td>\n",
       "    </tr>\n",
       "    <tr>\n",
       "      <th>240</th>\n",
       "      <td>10196</td>\n",
       "      <td>1</td>\n",
       "      <td>New York</td>\n",
       "      <td>0.0</td>\n",
       "      <td>3.250244e+04</td>\n",
       "      <td>NY</td>\n",
       "      <td>New York</td>\n",
       "      <td>36</td>\n",
       "      <td>061</td>\n",
       "      <td>http://www.usps.com/</td>\n",
       "      <td>0.0</td>\n",
       "      <td>0.0</td>\n",
       "      <td>POLYGON ((989117.631 214999.878, 989200.981 21...</td>\n",
       "    </tr>\n",
       "    <tr>\n",
       "      <th>241</th>\n",
       "      <td>10196</td>\n",
       "      <td>1</td>\n",
       "      <td>New York</td>\n",
       "      <td>0.0</td>\n",
       "      <td>3.154825e+03</td>\n",
       "      <td>NY</td>\n",
       "      <td>New York</td>\n",
       "      <td>36</td>\n",
       "      <td>061</td>\n",
       "      <td>http://www.usps.com/</td>\n",
       "      <td>0.0</td>\n",
       "      <td>0.0</td>\n",
       "      <td>POLYGON ((989421.941 214975.278, 989408.779 21...</td>\n",
       "    </tr>\n",
       "    <tr>\n",
       "      <th>242</th>\n",
       "      <td>10275</td>\n",
       "      <td>1</td>\n",
       "      <td>New York</td>\n",
       "      <td>0.0</td>\n",
       "      <td>4.828042e+04</td>\n",
       "      <td>NY</td>\n",
       "      <td>New York</td>\n",
       "      <td>36</td>\n",
       "      <td>061</td>\n",
       "      <td>http://www.usps.com/</td>\n",
       "      <td>0.0</td>\n",
       "      <td>0.0</td>\n",
       "      <td>POLYGON ((980227.090 196328.461, 980298.506 19...</td>\n",
       "    </tr>\n",
       "    <tr>\n",
       "      <th>249</th>\n",
       "      <td>10259</td>\n",
       "      <td>1</td>\n",
       "      <td>New York</td>\n",
       "      <td>0.0</td>\n",
       "      <td>2.106431e+04</td>\n",
       "      <td>NY</td>\n",
       "      <td>New York</td>\n",
       "      <td>36</td>\n",
       "      <td>061</td>\n",
       "      <td>http://www.usps.com/</td>\n",
       "      <td>0.0</td>\n",
       "      <td>0.0</td>\n",
       "      <td>POLYGON ((981377.148 197499.868, 981411.167 19...</td>\n",
       "    </tr>\n",
       "    <tr>\n",
       "      <th>251</th>\n",
       "      <td>10285</td>\n",
       "      <td>1</td>\n",
       "      <td>New York</td>\n",
       "      <td>0.0</td>\n",
       "      <td>6.735039e+04</td>\n",
       "      <td>NY</td>\n",
       "      <td>New York</td>\n",
       "      <td>36</td>\n",
       "      <td>061</td>\n",
       "      <td>http://www.usps.com/</td>\n",
       "      <td>0.0</td>\n",
       "      <td>0.0</td>\n",
       "      <td>POLYGON ((980157.859 199073.522, 980081.819 19...</td>\n",
       "    </tr>\n",
       "    <tr>\n",
       "      <th>252</th>\n",
       "      <td>10286</td>\n",
       "      <td>1</td>\n",
       "      <td>New York</td>\n",
       "      <td>0.0</td>\n",
       "      <td>1.126441e+04</td>\n",
       "      <td>NY</td>\n",
       "      <td>New York</td>\n",
       "      <td>36</td>\n",
       "      <td>061</td>\n",
       "      <td>http://www.usps.com/</td>\n",
       "      <td>0.0</td>\n",
       "      <td>0.0</td>\n",
       "      <td>POLYGON ((981654.605 196643.665, 981725.103 19...</td>\n",
       "    </tr>\n",
       "  </tbody>\n",
       "</table>\n",
       "</div>"
      ],
      "text/plain": [
       "    ZIPCODE BLDGZIP       PO_NAME  POPULATION          AREA STATE    COUNTY  \\\n",
       "50    10048       0      New York         0.0  9.727884e+05    NY  New York   \n",
       "54    00083       0  Central Park        25.0  3.830099e+07    NY  New York   \n",
       "239   10097       1      New York         0.0  6.582618e+04    NY  New York   \n",
       "240   10196       1      New York         0.0  3.250244e+04    NY  New York   \n",
       "241   10196       1      New York         0.0  3.154825e+03    NY  New York   \n",
       "242   10275       1      New York         0.0  4.828042e+04    NY  New York   \n",
       "249   10259       1      New York         0.0  2.106431e+04    NY  New York   \n",
       "251   10285       1      New York         0.0  6.735039e+04    NY  New York   \n",
       "252   10286       1      New York         0.0  1.126441e+04    NY  New York   \n",
       "\n",
       "    ST_FIPS CTY_FIPS                   URL  SHAPE_AREA  SHAPE_LEN  \\\n",
       "50       36      061  http://www.usps.com/         0.0        0.0   \n",
       "54       36      061  http://www.usps.com/         0.0        0.0   \n",
       "239      36      061  http://www.usps.com/         0.0        0.0   \n",
       "240      36      061  http://www.usps.com/         0.0        0.0   \n",
       "241      36      061  http://www.usps.com/         0.0        0.0   \n",
       "242      36      061  http://www.usps.com/         0.0        0.0   \n",
       "249      36      061  http://www.usps.com/         0.0        0.0   \n",
       "251      36      061  http://www.usps.com/         0.0        0.0   \n",
       "252      36      061  http://www.usps.com/         0.0        0.0   \n",
       "\n",
       "                                              geometry  \n",
       "50   POLYGON ((981026.765 197865.690, 981013.562 19...  \n",
       "54   POLYGON ((998309.725 229616.681, 998282.853 22...  \n",
       "239  POLYGON ((988345.340 217131.826, 988452.711 21...  \n",
       "240  POLYGON ((989117.631 214999.878, 989200.981 21...  \n",
       "241  POLYGON ((989421.941 214975.278, 989408.779 21...  \n",
       "242  POLYGON ((980227.090 196328.461, 980298.506 19...  \n",
       "249  POLYGON ((981377.148 197499.868, 981411.167 19...  \n",
       "251  POLYGON ((980157.859 199073.522, 980081.819 19...  \n",
       "252  POLYGON ((981654.605 196643.665, 981725.103 19...  "
      ]
     },
     "execution_count": 17,
     "metadata": {},
     "output_type": "execute_result"
    }
   ],
   "source": [
    "# THESE ZIP CODES HAVE ZERO PEOPLE IN THEM, EXCEPT FOR CENTRAL PARK WHICH THE MEDICAID DATA WOULD BE TOO\n",
    "# TOO SMALL TO INCLUDE.\n",
    "nycZips.query('~ZIPCODE.isin(@nycMedicaid.residence_zip5)')"
   ]
  },
  {
   "cell_type": "markdown",
   "id": "18c06373",
   "metadata": {},
   "source": [
    "##### How many children are insured by MC vs FFS?"
   ]
  },
  {
   "cell_type": "code",
   "execution_count": 24,
   "id": "e28f17d1",
   "metadata": {},
   "outputs": [
    {
     "data": {
      "text/plain": [
       "mc_ffs\n",
       "FFS              47439.0\n",
       "MANAGED CARE    835677.0\n",
       "Name: 2022_mbr_cnt, dtype: float64"
      ]
     },
     "execution_count": 24,
     "metadata": {},
     "output_type": "execute_result"
    }
   ],
   "source": [
    "nycMedicaid.groupby('mc_ffs')['2022_mbr_cnt'].sum()"
   ]
  },
  {
   "cell_type": "code",
   "execution_count": 25,
   "id": "7b466239",
   "metadata": {},
   "outputs": [
    {
     "data": {
      "text/plain": [
       "0.05676714807276017"
      ]
     },
     "execution_count": 25,
     "metadata": {},
     "output_type": "execute_result"
    }
   ],
   "source": [
    "# What percent is that?\n",
    "47439/835677"
   ]
  },
  {
   "cell_type": "markdown",
   "id": "cd1da039",
   "metadata": {},
   "source": [
    "##### How many children are enrolled in Medicaid?\n",
    "(minus the children who were in zip codes too small to count for privacy concerns)"
   ]
  },
  {
   "cell_type": "code",
   "execution_count": 27,
   "id": "05a8e5a2",
   "metadata": {},
   "outputs": [
    {
     "data": {
      "text/plain": [
       "883116.0"
      ]
     },
     "execution_count": 27,
     "metadata": {},
     "output_type": "execute_result"
    }
   ],
   "source": [
    "nycZipTotals['AGE_5-18'].sum()"
   ]
  },
  {
   "cell_type": "markdown",
   "id": "c1f88e07",
   "metadata": {},
   "source": [
    "### Summing FFS & MC enrollment for each zip code."
   ]
  },
  {
   "cell_type": "code",
   "execution_count": 26,
   "id": "6e33b832",
   "metadata": {},
   "outputs": [
    {
     "data": {
      "text/plain": [
       "(240, 2)"
      ]
     },
     "metadata": {},
     "output_type": "display_data"
    },
    {
     "data": {
      "text/html": [
       "<div>\n",
       "<style scoped>\n",
       "    .dataframe tbody tr th:only-of-type {\n",
       "        vertical-align: middle;\n",
       "    }\n",
       "\n",
       "    .dataframe tbody tr th {\n",
       "        vertical-align: top;\n",
       "    }\n",
       "\n",
       "    .dataframe thead th {\n",
       "        text-align: right;\n",
       "    }\n",
       "</style>\n",
       "<table border=\"1\" class=\"dataframe\">\n",
       "  <thead>\n",
       "    <tr style=\"text-align: right;\">\n",
       "      <th></th>\n",
       "      <th>ZIPCODE</th>\n",
       "      <th>AGE_5-18</th>\n",
       "    </tr>\n",
       "  </thead>\n",
       "  <tbody>\n",
       "    <tr>\n",
       "      <th>0</th>\n",
       "      <td>10001</td>\n",
       "      <td>938.0</td>\n",
       "    </tr>\n",
       "    <tr>\n",
       "      <th>1</th>\n",
       "      <td>10002</td>\n",
       "      <td>6304.0</td>\n",
       "    </tr>\n",
       "    <tr>\n",
       "      <th>2</th>\n",
       "      <td>10003</td>\n",
       "      <td>339.0</td>\n",
       "    </tr>\n",
       "    <tr>\n",
       "      <th>3</th>\n",
       "      <td>10004</td>\n",
       "      <td>108.0</td>\n",
       "    </tr>\n",
       "    <tr>\n",
       "      <th>4</th>\n",
       "      <td>10005</td>\n",
       "      <td>50.0</td>\n",
       "    </tr>\n",
       "  </tbody>\n",
       "</table>\n",
       "</div>"
      ],
      "text/plain": [
       "  ZIPCODE  AGE_5-18\n",
       "0   10001     938.0\n",
       "1   10002    6304.0\n",
       "2   10003     339.0\n",
       "3   10004     108.0\n",
       "4   10005      50.0"
      ]
     },
     "execution_count": 26,
     "metadata": {},
     "output_type": "execute_result"
    }
   ],
   "source": [
    "nycZipTotals = nycMedicaid.groupby('residence_zip5')['2022_mbr_cnt'].sum().reset_index().copy(deep=True).rename({'residence_zip5':'ZIPCODE','2022_mbr_cnt':'AGE_5-18'},axis=1)\n",
    "display(nycZipTotals.shape)\n",
    "nycZipTotals.head()"
   ]
  },
  {
   "cell_type": "code",
   "execution_count": 32,
   "id": "6144e807",
   "metadata": {},
   "outputs": [
    {
     "data": {
      "text/html": [
       "<div>\n",
       "<style scoped>\n",
       "    .dataframe tbody tr th:only-of-type {\n",
       "        vertical-align: middle;\n",
       "    }\n",
       "\n",
       "    .dataframe tbody tr th {\n",
       "        vertical-align: top;\n",
       "    }\n",
       "\n",
       "    .dataframe thead th {\n",
       "        text-align: right;\n",
       "    }\n",
       "</style>\n",
       "<table border=\"1\" class=\"dataframe\">\n",
       "  <thead>\n",
       "    <tr style=\"text-align: right;\">\n",
       "      <th></th>\n",
       "      <th>ZIPCODE</th>\n",
       "      <th>BLDGZIP</th>\n",
       "      <th>PO_NAME</th>\n",
       "      <th>POPULATION</th>\n",
       "      <th>AREA</th>\n",
       "      <th>STATE</th>\n",
       "      <th>COUNTY</th>\n",
       "      <th>ST_FIPS</th>\n",
       "      <th>CTY_FIPS</th>\n",
       "      <th>URL</th>\n",
       "      <th>SHAPE_AREA</th>\n",
       "      <th>SHAPE_LEN</th>\n",
       "      <th>geometry</th>\n",
       "      <th>AGE_5-18</th>\n",
       "    </tr>\n",
       "  </thead>\n",
       "  <tbody>\n",
       "    <tr>\n",
       "      <th>0</th>\n",
       "      <td>11436</td>\n",
       "      <td>0</td>\n",
       "      <td>Jamaica</td>\n",
       "      <td>18681.0</td>\n",
       "      <td>2.269930e+07</td>\n",
       "      <td>NY</td>\n",
       "      <td>Queens</td>\n",
       "      <td>36</td>\n",
       "      <td>081</td>\n",
       "      <td>http://www.usps.com/</td>\n",
       "      <td>0.0</td>\n",
       "      <td>0.0</td>\n",
       "      <td>POLYGON ((1038098.252 188138.380, 1038141.936 ...</td>\n",
       "      <td>2032.0</td>\n",
       "    </tr>\n",
       "    <tr>\n",
       "      <th>1</th>\n",
       "      <td>11213</td>\n",
       "      <td>0</td>\n",
       "      <td>Brooklyn</td>\n",
       "      <td>62426.0</td>\n",
       "      <td>2.963100e+07</td>\n",
       "      <td>NY</td>\n",
       "      <td>Kings</td>\n",
       "      <td>36</td>\n",
       "      <td>047</td>\n",
       "      <td>http://www.usps.com/</td>\n",
       "      <td>0.0</td>\n",
       "      <td>0.0</td>\n",
       "      <td>POLYGON ((1001613.713 186926.440, 1002314.243 ...</td>\n",
       "      <td>7920.0</td>\n",
       "    </tr>\n",
       "    <tr>\n",
       "      <th>2</th>\n",
       "      <td>11212</td>\n",
       "      <td>0</td>\n",
       "      <td>Brooklyn</td>\n",
       "      <td>83866.0</td>\n",
       "      <td>4.197210e+07</td>\n",
       "      <td>NY</td>\n",
       "      <td>Kings</td>\n",
       "      <td>36</td>\n",
       "      <td>047</td>\n",
       "      <td>http://www.usps.com/</td>\n",
       "      <td>0.0</td>\n",
       "      <td>0.0</td>\n",
       "      <td>POLYGON ((1011174.276 183696.338, 1011373.584 ...</td>\n",
       "      <td>15065.0</td>\n",
       "    </tr>\n",
       "    <tr>\n",
       "      <th>3</th>\n",
       "      <td>11225</td>\n",
       "      <td>0</td>\n",
       "      <td>Brooklyn</td>\n",
       "      <td>56527.0</td>\n",
       "      <td>2.369863e+07</td>\n",
       "      <td>NY</td>\n",
       "      <td>Kings</td>\n",
       "      <td>36</td>\n",
       "      <td>047</td>\n",
       "      <td>http://www.usps.com/</td>\n",
       "      <td>0.0</td>\n",
       "      <td>0.0</td>\n",
       "      <td>POLYGON ((995908.365 183617.613, 996522.848 18...</td>\n",
       "      <td>5071.0</td>\n",
       "    </tr>\n",
       "    <tr>\n",
       "      <th>4</th>\n",
       "      <td>11218</td>\n",
       "      <td>0</td>\n",
       "      <td>Brooklyn</td>\n",
       "      <td>72280.0</td>\n",
       "      <td>3.686880e+07</td>\n",
       "      <td>NY</td>\n",
       "      <td>Kings</td>\n",
       "      <td>36</td>\n",
       "      <td>047</td>\n",
       "      <td>http://www.usps.com/</td>\n",
       "      <td>0.0</td>\n",
       "      <td>0.0</td>\n",
       "      <td>POLYGON ((991997.113 176307.496, 992042.798 17...</td>\n",
       "      <td>11265.0</td>\n",
       "    </tr>\n",
       "  </tbody>\n",
       "</table>\n",
       "</div>"
      ],
      "text/plain": [
       "  ZIPCODE BLDGZIP   PO_NAME  POPULATION          AREA STATE  COUNTY ST_FIPS  \\\n",
       "0   11436       0   Jamaica     18681.0  2.269930e+07    NY  Queens      36   \n",
       "1   11213       0  Brooklyn     62426.0  2.963100e+07    NY   Kings      36   \n",
       "2   11212       0  Brooklyn     83866.0  4.197210e+07    NY   Kings      36   \n",
       "3   11225       0  Brooklyn     56527.0  2.369863e+07    NY   Kings      36   \n",
       "4   11218       0  Brooklyn     72280.0  3.686880e+07    NY   Kings      36   \n",
       "\n",
       "  CTY_FIPS                   URL  SHAPE_AREA  SHAPE_LEN  \\\n",
       "0      081  http://www.usps.com/         0.0        0.0   \n",
       "1      047  http://www.usps.com/         0.0        0.0   \n",
       "2      047  http://www.usps.com/         0.0        0.0   \n",
       "3      047  http://www.usps.com/         0.0        0.0   \n",
       "4      047  http://www.usps.com/         0.0        0.0   \n",
       "\n",
       "                                            geometry  AGE_5-18  \n",
       "0  POLYGON ((1038098.252 188138.380, 1038141.936 ...    2032.0  \n",
       "1  POLYGON ((1001613.713 186926.440, 1002314.243 ...    7920.0  \n",
       "2  POLYGON ((1011174.276 183696.338, 1011373.584 ...   15065.0  \n",
       "3  POLYGON ((995908.365 183617.613, 996522.848 18...    5071.0  \n",
       "4  POLYGON ((991997.113 176307.496, 992042.798 17...   11265.0  "
      ]
     },
     "metadata": {},
     "output_type": "display_data"
    },
    {
     "data": {
      "text/plain": [
       "(263, 14)"
      ]
     },
     "execution_count": 32,
     "metadata": {},
     "output_type": "execute_result"
    }
   ],
   "source": [
    "# Merging Zip Enrollment Totals and Zip Shape File\n",
    "nycZipMergeGeo = nycZips.merge(nycZipTotals,how='left',left_on='ZIPCODE',right_on='ZIPCODE')\n",
    "display(nycZipMergeGeo.head())\n",
    "nycZipMergeGeo.shape"
   ]
  },
  {
   "cell_type": "markdown",
   "id": "e8d3d135",
   "metadata": {},
   "source": [
    "Good! I have 263 records -- one for every original zip code shape file. That means my aggregate data will be shared across all the shapes for the zip codes with multiple polygons"
   ]
  },
  {
   "cell_type": "markdown",
   "id": "3f337c2d",
   "metadata": {},
   "source": [
    "### Exporting to GeoJSON"
   ]
  },
  {
   "cell_type": "code",
   "execution_count": 33,
   "id": "c3280355",
   "metadata": {},
   "outputs": [
    {
     "data": {
      "text/plain": [
       "<Derived Projected CRS: EPSG:2263>\n",
       "Name: NAD83 / New York Long Island (ftUS)\n",
       "Axis Info [cartesian]:\n",
       "- X[east]: Easting (US survey foot)\n",
       "- Y[north]: Northing (US survey foot)\n",
       "Area of Use:\n",
       "- name: United States (USA) - New York - counties of Bronx; Kings; Nassau; New York; Queens; Richmond; Suffolk.\n",
       "- bounds: (-74.26, 40.47, -71.8, 41.3)\n",
       "Coordinate Operation:\n",
       "- name: SPCS83 New York Long Island zone (US Survey feet)\n",
       "- method: Lambert Conic Conformal (2SP)\n",
       "Datum: North American Datum 1983\n",
       "- Ellipsoid: GRS 1980\n",
       "- Prime Meridian: Greenwich"
      ]
     },
     "execution_count": 33,
     "metadata": {},
     "output_type": "execute_result"
    }
   ],
   "source": [
    "# Saving it as a geodataframe\n",
    "nycZipMergeGeo = gpd.GeoDataFrame(\n",
    "    nycZipMergeGeo, geometry='geometry'\n",
    " )\n",
    "\n",
    "# Exporting it\n",
    "nycZipMergeGeo.to_file('data/nycEnrollmentZip.geojson',driver='GeoJSON')\n",
    "\n",
    "nycZipMergeGeo.crs"
   ]
  },
  {
   "cell_type": "markdown",
   "id": "308231c3",
   "metadata": {},
   "source": [
    "## Now let's get enrollment by UHF Codes"
   ]
  },
  {
   "cell_type": "code",
   "execution_count": 36,
   "id": "3173f9b4",
   "metadata": {},
   "outputs": [
    {
     "data": {
      "text/html": [
       "<div>\n",
       "<style scoped>\n",
       "    .dataframe tbody tr th:only-of-type {\n",
       "        vertical-align: middle;\n",
       "    }\n",
       "\n",
       "    .dataframe tbody tr th {\n",
       "        vertical-align: top;\n",
       "    }\n",
       "\n",
       "    .dataframe thead th {\n",
       "        text-align: right;\n",
       "    }\n",
       "</style>\n",
       "<table border=\"1\" class=\"dataframe\">\n",
       "  <thead>\n",
       "    <tr style=\"text-align: right;\">\n",
       "      <th></th>\n",
       "      <th>uhf_code</th>\n",
       "      <th>AGE_5-18</th>\n",
       "      <th>OBJECTID</th>\n",
       "      <th>UHFCODE</th>\n",
       "      <th>SHAPE_Leng</th>\n",
       "      <th>SHAPE_Area</th>\n",
       "      <th>UHF_NEIGH</th>\n",
       "      <th>BOROUGH</th>\n",
       "      <th>geometry</th>\n",
       "    </tr>\n",
       "  </thead>\n",
       "  <tbody>\n",
       "    <tr>\n",
       "      <th>0</th>\n",
       "      <td>101</td>\n",
       "      <td>13016.0</td>\n",
       "      <td>2</td>\n",
       "      <td>101</td>\n",
       "      <td>57699.154353</td>\n",
       "      <td>1.332914e+08</td>\n",
       "      <td>Kingsbridge - Riverdale</td>\n",
       "      <td>Bronx</td>\n",
       "      <td>MULTIPOLYGON (((1017992.893 269222.964, 101781...</td>\n",
       "    </tr>\n",
       "    <tr>\n",
       "      <th>1</th>\n",
       "      <td>102</td>\n",
       "      <td>20866.0</td>\n",
       "      <td>3</td>\n",
       "      <td>102</td>\n",
       "      <td>88219.319109</td>\n",
       "      <td>1.813708e+08</td>\n",
       "      <td>Northeast Bronx</td>\n",
       "      <td>Bronx</td>\n",
       "      <td>MULTIPOLYGON (((1025012.990 270794.260, 102506...</td>\n",
       "    </tr>\n",
       "    <tr>\n",
       "      <th>2</th>\n",
       "      <td>103</td>\n",
       "      <td>43358.0</td>\n",
       "      <td>4</td>\n",
       "      <td>103</td>\n",
       "      <td>59711.871991</td>\n",
       "      <td>1.407724e+08</td>\n",
       "      <td>Fordham - Bronx Park</td>\n",
       "      <td>Bronx</td>\n",
       "      <td>MULTIPOLYGON (((1023994.480 261065.967, 102388...</td>\n",
       "    </tr>\n",
       "    <tr>\n",
       "      <th>3</th>\n",
       "      <td>104</td>\n",
       "      <td>41448.0</td>\n",
       "      <td>5</td>\n",
       "      <td>104</td>\n",
       "      <td>250903.372273</td>\n",
       "      <td>3.865737e+08</td>\n",
       "      <td>Pelham - Throgs Neck</td>\n",
       "      <td>Bronx</td>\n",
       "      <td>MULTIPOLYGON (((1017075.039 237316.182, 101707...</td>\n",
       "    </tr>\n",
       "    <tr>\n",
       "      <th>4</th>\n",
       "      <td>105</td>\n",
       "      <td>43293.0</td>\n",
       "      <td>6</td>\n",
       "      <td>105</td>\n",
       "      <td>66676.089072</td>\n",
       "      <td>1.068978e+08</td>\n",
       "      <td>Crotona - Tremont</td>\n",
       "      <td>Bronx</td>\n",
       "      <td>MULTIPOLYGON (((1007916.255 252530.752, 100823...</td>\n",
       "    </tr>\n",
       "  </tbody>\n",
       "</table>\n",
       "</div>"
      ],
      "text/plain": [
       "  uhf_code  AGE_5-18  OBJECTID UHFCODE     SHAPE_Leng    SHAPE_Area  \\\n",
       "0      101   13016.0         2     101   57699.154353  1.332914e+08   \n",
       "1      102   20866.0         3     102   88219.319109  1.813708e+08   \n",
       "2      103   43358.0         4     103   59711.871991  1.407724e+08   \n",
       "3      104   41448.0         5     104  250903.372273  3.865737e+08   \n",
       "4      105   43293.0         6     105   66676.089072  1.068978e+08   \n",
       "\n",
       "                 UHF_NEIGH BOROUGH  \\\n",
       "0  Kingsbridge - Riverdale   Bronx   \n",
       "1          Northeast Bronx   Bronx   \n",
       "2     Fordham - Bronx Park   Bronx   \n",
       "3     Pelham - Throgs Neck   Bronx   \n",
       "4        Crotona - Tremont   Bronx   \n",
       "\n",
       "                                            geometry  \n",
       "0  MULTIPOLYGON (((1017992.893 269222.964, 101781...  \n",
       "1  MULTIPOLYGON (((1025012.990 270794.260, 102506...  \n",
       "2  MULTIPOLYGON (((1023994.480 261065.967, 102388...  \n",
       "3  MULTIPOLYGON (((1017075.039 237316.182, 101707...  \n",
       "4  MULTIPOLYGON (((1007916.255 252530.752, 100823...  "
      ]
     },
     "execution_count": 36,
     "metadata": {},
     "output_type": "execute_result"
    }
   ],
   "source": [
    "# Merging Neighborhood Codes with the nycZipMergeGeo\n",
    "zipUHF = nycZipMergeGeo.merge(uhfCodes, how='left',left_on='ZIPCODE',right_on='zipcode')\n",
    "\n",
    "# Creating enrollment totals for neighborhoods and merging with code shapefile \n",
    "UHF_totals = zipUHF.groupby('uhf_code')['AGE_5-18'].sum().to_frame().reset_index()\n",
    "nycMergeUHFGeo = UHF_totals.merge(uhfCodesGeo,how='left',left_on='uhf_code',right_on='UHFCODE')\n",
    "\n",
    "nycMergeUHFGeo.head()"
   ]
  },
  {
   "cell_type": "markdown",
   "id": "96415166",
   "metadata": {},
   "source": [
    "### Exporting to GeoJSON"
   ]
  },
  {
   "cell_type": "code",
   "execution_count": 37,
   "id": "c04e1eac",
   "metadata": {},
   "outputs": [
    {
     "data": {
      "text/plain": [
       "<Derived Projected CRS: EPSG:2263>\n",
       "Name: NAD83 / New York Long Island (ftUS)\n",
       "Axis Info [cartesian]:\n",
       "- X[east]: Easting (US survey foot)\n",
       "- Y[north]: Northing (US survey foot)\n",
       "Area of Use:\n",
       "- name: United States (USA) - New York - counties of Bronx; Kings; Nassau; New York; Queens; Richmond; Suffolk.\n",
       "- bounds: (-74.26, 40.47, -71.8, 41.3)\n",
       "Coordinate Operation:\n",
       "- name: SPCS83 New York Long Island zone (US Survey feet)\n",
       "- method: Lambert Conic Conformal (2SP)\n",
       "Datum: North American Datum 1983\n",
       "- Ellipsoid: GRS 1980\n",
       "- Prime Meridian: Greenwich"
      ]
     },
     "execution_count": 37,
     "metadata": {},
     "output_type": "execute_result"
    }
   ],
   "source": [
    "# Saving it as a geodataframe\n",
    "nycMergeUHFGeo = gpd.GeoDataFrame(\n",
    "    nycMergeUHFGeo, geometry='geometry'\n",
    " )\n",
    "\n",
    "# Exporting it\n",
    "nycMergeUHFGeo.to_file('data/nycEnrollmentUHF.geojson',driver='GeoJSON')\n",
    "\n",
    "# Let's assign it a CRS for Altair\n",
    "nycMergeUHFGeo.crs"
   ]
  }
 ],
 "metadata": {
  "kernelspec": {
   "display_name": "Python 3 (ipykernel)",
   "language": "python",
   "name": "python3"
  },
  "language_info": {
   "codemirror_mode": {
    "name": "ipython",
    "version": 3
   },
   "file_extension": ".py",
   "mimetype": "text/x-python",
   "name": "python",
   "nbconvert_exporter": "python",
   "pygments_lexer": "ipython3",
   "version": "3.9.7"
  }
 },
 "nbformat": 4,
 "nbformat_minor": 5
}
